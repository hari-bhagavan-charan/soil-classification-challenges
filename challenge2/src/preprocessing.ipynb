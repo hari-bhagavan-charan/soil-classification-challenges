'''Author:Hari bhagwan charan
Team Name: hari bhagawan charan

Leaderboard Rank: 7'''





# Download Dataset and Saved model

import requests, zipfile, io, os, shutil

# Function to download a file
def download_file(url, output_path):
    print(f"Downloading {output_path}...")
    response = requests.get(url, stream=True)
    with open(output_path, 'wb') as f:
        shutil.copyfileobj(response.raw, f)
    print(f"{output_path} downloaded successfully.\n")

# 1. Download and extract dataset.zip into ./soil_competition-2025
dataset_url = "https://www.dropbox.com/scl/fo/uiba7fs5fqc6xgukzdrq6/AHvlDicVORTbKhLKr8H14Yc?rlkey=av3kmv5gp4qss21wjyjag449c&st=m9mgnzge&dl=1"
dataset_zip = "dataset.zip"
dataset_extract_path = "./soil_competition-2025"

download_file(dataset_url, dataset_zip)

print(f"Extracting to {dataset_extract_path}...")
with zipfile.ZipFile(dataset_zip, 'r') as zip_ref:
    zip_ref.extractall(dataset_extract_path)
print("Extraction complete.\n")

# Delete the zip file after extraction
os.remove(dataset_zip)
print(f"Deleted {dataset_zip} to save space.\n")

# 2. Download son.pth
model_url = "https://www.dropbox.com/scl/fi/fcfk62f84g2fnt9mff517/son.pth?rlkey=uvva0oi3qqf8kur6nx0vaar0z&st=9yxedlwy&dl=1"
model_output = "son.pth"

download_file(model_url, model_output)

import os
import torch
import torch.nn as nn
from torchvision import transforms, models
from torch.utils.data import DataLoader, Dataset
from PIL import Image
import timm
from tqdm import tqdm
import shutil

DEVICE = torch.device("cuda" if torch.cuda.is_available() else "cpu")
print("Using device:", DEVICE)

# You can adjust these values based on your GPU/CPU resources
BATCH_SIZE = 8
NUM_WORKERS = 0
IMAGE_SIZE = 224
