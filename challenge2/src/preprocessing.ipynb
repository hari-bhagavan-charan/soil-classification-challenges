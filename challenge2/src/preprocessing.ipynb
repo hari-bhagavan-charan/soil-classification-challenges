Author:Hari bhagwan charan
Team Name: hari bhagawan charan

Leaderboard Rank: 7





{
 "cells": [
  {
   "cell_type": "code",
   "execution_count": null,
   "id": "37130ae0",
   "metadata": {
    "colab": {
     "base_uri": "https://localhost:8080/"
    },
    "id": "FL-EUAWmpPed",
    "outputId": "921b39e4-b296-44b9-a3bb-02e52cbbf760"
   },
   "outputs": [
    {
     "name": "stdout",
     "output_type": "stream",
     "text": [
      "Downloading dataset.zip...\n",
      "dataset.zip downloaded successfully.\n",
      "\n",
      "Extracting to ./soil_competition-2025...\n",
      "Extraction complete.\n",
      "\n",
      "Deleted dataset.zip to save space.\n",
      "\n",
      "Downloading son.pth...\n",
      "son.pth downloaded successfully.\n",
      "\n"
     ]
    }
   ],
   "source": [
    "# Download Dataset and Saved model\n",
    "\n",
    "import requests, zipfile, io, os, shutil\n",
    "\n",
    "# Function to download a file\n",
    "def download_file(url, output_path):\n",
    "    print(f\"Downloading {output_path}...\")\n",
    "    response = requests.get(url, stream=True)\n",
    "    with open(output_path, 'wb') as f:\n",
    "        shutil.copyfileobj(response.raw, f)\n",
    "    print(f\"{output_path} downloaded successfully.\\n\")\n",
    "\n",
    "# 1. Download and extract dataset.zip into ./soil_competition-2025\n",
    "dataset_url = \"https://www.dropbox.com/scl/fo/uiba7fs5fqc6xgukzdrq6/AHvlDicVORTbKhLKr8H14Yc?rlkey=av3kmv5gp4qss21wjyjag449c&st=m9mgnzge&dl=1\"\n",
    "dataset_zip = \"dataset.zip\"\n",
    "dataset_extract_path = \"./soil_competition-2025\"\n",
    "\n",
    "download_file(dataset_url, dataset_zip)\n",
    "\n",
    "print(f\"Extracting to {dataset_extract_path}...\")\n",
    "with zipfile.ZipFile(dataset_zip, 'r') as zip_ref:\n",
    "    zip_ref.extractall(dataset_extract_path)\n",
    "print(\"Extraction complete.\\n\")\n",
    "\n",
    "# Delete the zip file after extraction\n",
    "os.remove(dataset_zip)\n",
    "print(f\"Deleted {dataset_zip} to save space.\\n\")\n",
    "\n",
    "# 2. Download son.pth\n",
    "model_url = \"https://www.dropbox.com/scl/fi/fcfk62f84g2fnt9mff517/son.pth?rlkey=uvva0oi3qqf8kur6nx0vaar0z&st=9yxedlwy&dl=1\"\n",
    "model_output = \"son.pth\"\n",
    "\n",
    "download_file(model_url, model_output)"
   ]
  },
  {
   "cell_type": "code",
   "execution_count": null,
   "id": "c298ca6e",
   "metadata": {
    "colab": {
     "base_uri": "https://localhost:8080/"
    },
    "id": "yDbPl9iJpqEQ",
    "outputId": "288eaa43-daab-4022-f6a0-97a3c258a330"
   },
   "outputs": [
    {
     "name": "stdout",
     "output_type": "stream",
     "text": [
      "Using device: cuda\n"
     ]
    }
   ],
   "source": [
    "import os\n",
    "import torch\n",
    "import torch.nn as nn\n",
    "from torchvision import transforms, models\n",
    "from torch.utils.data import DataLoader, Dataset\n",
    "from PIL import Image\n",
    "import timm\n",
    "from tqdm import tqdm\n",
    "import shutil\n",
    "\n",
    "DEVICE = torch.device(\"cuda\" if torch.cuda.is_available() else \"cpu\")\n",
    "print(\"Using device:\", DEVICE)"
   ]
  },
  {
   "cell_type": "code",
   "execution_count": null,
   "id": "b84b6282",
   "metadata": {
    "id": "pOOg_L6gpzWI"
   },
   "outputs": [],
   "source": [
    "transform = transforms.Compose([\n",
    "    transforms.Resize((IMAGE_SIZE, IMAGE_SIZE)),\n",
    "    transforms.ToTensor(),\n",
    "    transforms.Normalize([0.5]*3, [0.5]*3)\n",
    "])"
   ]
  },
  {
   "cell_type": "code",
   "execution_count": null,
   "id": "f52f1ef8",
   "metadata": {
    "id": "7XfEpy9np2dn"
   },
   "outputs": [],
   "source": [
    "class TestImageDataset(Dataset):\n",
    "    def __init__(self, image_dir, transform=None):\n",
    "        self.image_dir = image_dir\n",
    "        self.image_paths = [os.path.join(image_dir, img) for img in os.listdir(image_dir)\n",
    "                            if img.lower().endswith(('.jpg', '.png', '.jpeg'))]\n",
    "        self.transform = transform\n",
    "\n",
    "    def __len__(self):\n",
    "        return len(self.image_paths)\n",
    "\n",
    "    def __getitem__(self, idx):\n",
    "        img_path = self.image_paths[idx]\n",
    "        image = Image.open(img_path).convert(\"RGB\")\n",
    "        if self.transform:\n",
    "            image = self.transform(image)\n",
    "        return image, img_path  # return image and its original path"
   ]
  },
  {
   "cell_type": "code",
   "execution_count": null,
   "id": "cc51db41",
   "metadata": {
    "colab": {
     "base_uri": "https://localhost:8080/"
    },
    "id": "Pm-lE-aqqQVK",
    "outputId": "665dec0f-5048-4811-e66e-0a1227eea0ba"
   },
   "outputs": [
    {
     "name": "stderr",
     "output_type": "stream",
     "text": [
      "Predicting: 100%|██████████| 121/121 [00:16<00:00,  7.17it/s]"
     ]
    },
    {
     "name": "stdout",
     "output_type": "stream",
     "text": [
      "Results saved to Soil_Binary_Classification_2.csv\n"
     ]
    },
    {
     "name": "stderr",
     "output_type": "stream",
     "text": [
      "\n"
     ]
    }
   ],
   "source": [
    "import pandas as pd\n",
    "\n",
    "# Store results\n",
    "results = []\n",
    "\n",
    "with torch.no_grad():\n",
    "    for inputs, paths in tqdm(test_loader, desc=\"Predicting\"):\n",
    "        inputs = inputs.to(DEVICE)\n",
    "\n",
    "        outputs1 = model1(inputs)\n",
    "        outputs2 = model2(inputs)\n",
    "\n",
    "        probs1 = torch.softmax(outputs1, dim=1)\n",
    "        probs2 = torch.softmax(outputs2, dim=1)\n",
    "\n",
    "        avg_probs = (probs1 + probs2) / 2\n",
    "        preds = torch.argmax(avg_probs, dim=1).cpu().numpy()\n",
    "\n",
    "        for img_path, pred in zip(paths, preds):\n",
    "            image_id = os.path.basename(img_path)\n",
    "            results.append({'image_id': image_id, 'label': int(pred)})\n",
    "\n",
    "# Save to CSV\n",
    "df = pd.DataFrame(results)\n",
    "df.to_csv(\"Soil_Binary_Classification_2.csv\", index=False)\n",
    "print(\"Results saved to Soil_Binary_Classification_2.csv\")"
   ]
  },
  {
   "cell_type": "code",
   "execution_count": null,
   "id": "5a15c845",
   "metadata": {
    "colab": {
     "base_uri": "https://localhost:8080/"
    },
    "id": "u4Wh5LrfqwQU",
    "outputId": "72655904-8b96-4197-dc93-27cf9dcf5a03"
   },
   "outputs": [
    {
     "name": "stdout",
     "output_type": "stream",
     "text": [
      "Reordered results saved to Soil_Binary_Classification_2_reordered.csv\n"
     ]
    }
   ],
   "source": [
    "# prompt: re arrange the order of image id as given in test_ids /content/soil_competition-2025/test_ids.csv\n",
    "\n",
    "import pandas as pd\n",
    "# Load the test_ids from the CSV file\n",
    "test_ids_df = pd.read_csv(\"/content/soil_competition-2025/test_ids.csv\")\n",
    "\n",
    "# Merge the results with the test_ids_df to reorder\n",
    "# We use a left merge to ensure all image_ids from test_ids.csv are present\n",
    "# And then sort by the order of the merged dataframe (which is based on test_ids_df)\n",
    "merged_df = pd.merge(test_ids_df, df, on='image_id', how='left')\n",
    "\n",
    "# Ensure the 'label' column is in the correct order based on the merged dataframe\n",
    "# and select only 'image_id' and 'label' columns\n",
    "ordered_df = merged_df[['image_id', 'label']]\n",
    "\n",
    "# Save the reordered DataFrame to a new CSV file\n",
    "ordered_df.to_csv(\"Soil_Binary_Classification_2_reordered.csv\", index=False)\n",
    "\n",
    "print(\"Reordered results saved to Soil_Binary_Classification_2_reordered.csv\")"
   ]
  }
 ],
 "metadata": {},
 "nbformat": 4,
 "nbformat_minor": 5
}
